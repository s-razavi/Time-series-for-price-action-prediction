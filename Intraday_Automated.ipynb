{
  "nbformat": 4,
  "nbformat_minor": 0,
  "metadata": {
    "colab": {
      "name": "Intraday-Automated",
      "provenance": [],
      "collapsed_sections": [],
      "toc_visible": true
    },
    "kernelspec": {
      "name": "python3",
      "display_name": "Python 3"
    }
  },
  "cells": [
    {
      "cell_type": "markdown",
      "metadata": {
        "id": "ymuzb478E0rG"
      },
      "source": [
        "# import files/libraries"
      ]
    },
    {
      "cell_type": "code",
      "metadata": {
        "id": "lAd-XNMPSSRZ"
      },
      "source": [
        "import numpy as np\n",
        "import scipy as sp\n",
        "import matplotlib.pyplot as plt\n",
        "from matplotlib import pyplot\n",
        "import pandas as pd\n",
        "import pandas_datareader as pdr\n",
        "import io\n",
        "import os\n",
        "from scipy.stats import pearsonr\n",
        "import itertools\n",
        "import random\n",
        "from random import sample \n",
        "from random import random\n",
        "import time\n",
        "import pickle\n",
        "import seaborn as sns\n",
        "import dateutil.parser\n",
        "from dateutil.parser import parse\n",
        "from datetime import datetime\n",
        "from scipy.stats import f_oneway\n",
        "import plotly.graph_objects as go\n",
        "\n",
        "import xgboost \n",
        "from xgboost import XGBClassifier\n",
        "\n",
        "from sklearn.ensemble import RandomForestRegressor\n",
        "from sklearn.ensemble import RandomForestClassifier\n",
        "from sklearn.model_selection import train_test_split\n",
        "from sklearn.preprocessing import MinMaxScaler\n",
        "from sklearn.metrics import accuracy_score\n",
        "from sklearn import metrics\n",
        "from sklearn.metrics import confusion_matrix\n",
        "from sklearn.metrics import classification_report\n",
        "from sklearn.preprocessing import LabelEncoder\n",
        "from sklearn.preprocessing import OneHotEncoder\n",
        "from sklearn.model_selection import KFold\n",
        "\n",
        "#TF and Keras for neural net:\n",
        "import tensorflow as tf\n",
        "import keras\n",
        "from keras.datasets import imdb\n",
        "from tensorflow.keras.models import Sequential, load_model\n",
        "from tensorflow.keras import layers\n",
        "from keras.models import Sequential\n",
        "from keras.layers import Dense\n",
        "from keras.preprocessing import sequence\n",
        "from tensorflow.keras.optimizers import SGD\n",
        "from keras.layers import Dense, Dropout, LSTM\n",
        "from keras.optimizers import Adam\n",
        "from keras.models import model_from_json\n",
        "\n",
        "\n",
        "# !pip install shap\n",
        "# #!pip install git+https://github.com/slundberg/shap.git\n",
        "# import shap"
      ],
      "execution_count": null,
      "outputs": []
    },
    {
      "cell_type": "markdown",
      "metadata": {
        "id": "BZv3AhVmE6AM"
      },
      "source": [
        "# Functions\n"
      ]
    },
    {
      "cell_type": "code",
      "metadata": {
        "id": "Cu-x3JHm8IZe"
      },
      "source": [
        "def pct(df): # make the list differenced by pct, return the same lenght.\n",
        "  lst = [0]\n",
        "  for i in range(1,len(df)):\n",
        "    lst.append(df[i]/df[i-1]-1)\n",
        "  return lst\n",
        "\n",
        "def stdev(df, days): # returns the stdev of past 'days' days including today.\n",
        "  lst = (days-1)*[0]\n",
        "  for i in range(days,len(df)+1):\n",
        "    lst.append(np.std(df[i-days:i]))\n",
        "  return lst\n",
        "\n",
        "def HV(df, days): # returns the HV of past 'days' days including today.\n",
        "  lst = (days-1)*[0]\n",
        "  for i in range(days,len(df)+1):\n",
        "    lst.append(round(100*np.std(df[i-days:i])*256**0.5,1))\n",
        "  return lst\n",
        "# https://www.danielstrading.com/education/technical-analysis-learning-center/historic-volatility\n",
        "# https://www.fool.com/knowledge-center/how-to-calculate-annualized-volatility.aspx\n",
        "\n",
        "def HV_modified(df, days): # returns the HV of past 'days' days including today + days are watered down.\n",
        "  lst = (days-1)*[0]\n",
        "  df = [x if x<0 else x/4 for x in df]\n",
        "  for i in range(days,len(df)+1):\n",
        "    lst.append(round(100*np.std(df[i-days:i])*21**0.5,1))\n",
        "  return lst\n",
        "\n",
        "def pct_fwd(df, days, value = 0): \n",
        "  ''' inputs price and returns the gain/loss of 'days' days forward refereneced to today.'''\n",
        "  lst = []\n",
        "  for i in range(len(df)-days):\n",
        "    lst.append(df[i+days-1]/df[i] - 1)\n",
        "  for j in range(days):\n",
        "    lst.append(value)\n",
        "  return lst\n",
        "\n",
        "# inputs list of percentages and returns simulated growth of $100 \n",
        "def growth(lst, start = 100):\n",
        "  start = start\n",
        "  growth_list = [start]\n",
        "  for i in range(1,len(lst)):\n",
        "    start += start*lst[i]\n",
        "    growth_list.append(start)\n",
        "  return growth_list\n",
        "\n",
        "def ema(df, EMA_days):# returns the ema of past 'sma_days' days including today.\n",
        "    sma = np.mean(df[0:EMA_days])\n",
        "    EMA_list = [0] * (EMA_days - 1)\n",
        "    EMA_list.append(sma)\n",
        "    c = 2/(1+EMA_days)\n",
        "    for i in range(EMA_days,len(df)):\n",
        "        a = EMA_list[i-1]*(1-c)+ c*df[i]\n",
        "        EMA_list.append(a)\n",
        "    return(EMA_list)\n",
        "\n",
        "def sma(df, sma_days):# returns the sma of past 'sma_days' days including today.\n",
        "    sma_list = [0] * (sma_days - 1)\n",
        "    for i in range(sma_days, len(df)+1):\n",
        "        sma_list.append(np.mean(df[i-sma_days:i]))\n",
        "    return(sma_list)\n",
        "\n",
        "# returns two lists of resistance (max) and support (min) over past 'days' days including today\n",
        "def sup_res(df, days): \n",
        "  maxs = [0]*(days - 1)\n",
        "  mins = [0]*(days - 1)\n",
        "  for i in range(days, len(df)+1): # len(df)+1 because range does not count the last int.\n",
        "    mx = max(df[i-days:i])\n",
        "    mn = min(df[i-days:i])\n",
        "    maxs.append(mx)\n",
        "    mins.append(mn)\n",
        "  return maxs, mins #resistance and support\n",
        "\n",
        "def slopes(df, days): #returns the slope of past 'days' days including today.\n",
        "  slopelist = (days-1)*[0]\n",
        "  for i in range(days,len(df)+1):\n",
        "    slopelist.append(np.polyfit(np.asarray((range(0,days))),np.asarray(df[i-days:i]),1)[0])\n",
        "  return slopelist\n",
        "\n",
        "def pretty_print_conf_matrix(y_true, y_pred, classes,normalize=False,title='Confusion matrix',cmap=plt.cm.Blues):\n",
        "    cm = confusion_matrix(y_true, y_pred)\n",
        "    plt.imshow(cm, interpolation='nearest', cmap=cmap)\n",
        "    plt.title(title, fontsize=14)\n",
        "    tick_marks = np.arange(len(classes))\n",
        "    plt.xticks(tick_marks, classes, rotation=45)\n",
        "    plt.yticks(tick_marks, classes)\n",
        "    plt.ylabel('True label', fontsize=12)\n",
        "    plt.xlabel('Predicted label', fontsize=12)\n",
        "    if normalize:\n",
        "        cm = np.round(cm.astype('float') / cm.sum(),2) \n",
        "    thresh = cm.max() / 2.\n",
        "    for i, j in itertools.product(range(cm.shape[0]), range(cm.shape[1])):\n",
        "        plt.text(j, i, cm[i, j],horizontalalignment=\"center\",color=\"white\" if cm[i, j] > thresh else \"black\",\n",
        "                 fontsize=12)\n",
        "    plt.show()\n",
        "        \n",
        "#fix random effect\n",
        "def fix_rnd_Keras():\n",
        "    seed_value= 0\n",
        "    os.environ['PYTHONHASHSEED']=str(seed_value)\n",
        "    random.seed(seed_value)\n",
        "    np.random.seed(seed_value)\n",
        "    import tensorflow as tf\n",
        "    tf.random.set_seed(seed_value)\n",
        "    from keras import backend as K\n",
        "    session_conf =  tf.compat.v1.ConfigProto(intra_op_parallelism_threads=1, inter_op_parallelism_threads=1)\n",
        "    sess = tf.compat.v1.Session(graph=tf.compat.v1.get_default_graph(), config=session_conf)\n",
        "    tf.compat.v1.keras.backend.set_session(sess)\n",
        "\n",
        "# returns a 3D version of x (number of samples, time steps (window), features) and 2D version of y for LSTM.\n",
        "# gap defines the overlap between samples, gap = 1: max overlap, gap = window: no overlap\n",
        "def windower(x,y, window, gap): \n",
        "  i = 0\n",
        "  data_X, data_Y = [], []\n",
        "  x = np.asarray(x)\n",
        "  while i in range(len(x) - window):\n",
        "      data_X.append(x[i:(i + window), :])\n",
        "      data_Y.append(y[i + window-1])\n",
        "      i += gap\n",
        "  return np.asarray(data_X), np.reshape(data_Y,(-1,1))\n",
        "\n",
        "# return the split of test and train for LSTM: requires lenght to be divisible to batch_size for stateful LSTM\n",
        "def test_train_split(x, y, batch_size, train_ratio):       \n",
        "    train_length = int(len(x)*train_ratio)\n",
        "    for i in range(train_length, train_length+batch_size):\n",
        "        remainder = i%batch_size\n",
        "        if remainder == 0:\n",
        "            train_length = i\n",
        "            break\n",
        "    x_train = x[:train_length,:]\n",
        "    y_train = y[:train_length]\n",
        "\n",
        "    for i in range(len(x)-batch_size, len(x)):\n",
        "        remainder = i%batch_size\n",
        "        if remainder == 0:\n",
        "            train_length_test = i\n",
        "            break\n",
        "    x_test = x[train_length:train_length_test,:]\n",
        "    y_test = y[train_length:train_length_test]\n",
        "    return x_train, y_train, x_test, y_test\n",
        "\n",
        "# One hot encoding of categorical features. \n",
        "def OHE(df):\n",
        "    x = np.asarray(df)\n",
        "    encoded_x = None\n",
        "    for i in range(0, x.shape[1]):\n",
        "      label_encoder = LabelEncoder()\n",
        "      feature = label_encoder.fit_transform(x[:,i])\n",
        "      feature = feature.reshape(x.shape[0], 1)\n",
        "      onehot_encoder = OneHotEncoder(sparse=False, categories='auto')\n",
        "      feature = onehot_encoder.fit_transform(feature)\n",
        "      if encoded_x is None:\n",
        "          encoded_x = feature\n",
        "      else:\n",
        "              encoded_x = np.concatenate((encoded_x, feature), axis=1)\n",
        "    return encoded_x\n",
        "\n",
        "def sloper(vxx, ema_days, slope_days, l_thresh, h_thresh, mx_thresh, vvix_thresh): # returns labels based on the threshhold on the slope\n",
        "  color = []\n",
        "  c_label = []\n",
        "  vxx['vix_slop'] = slopes(ema(vxx.vix,ema_days),slope_days)\n",
        "  vxx['mx'] = maxer(vxx.vix,10)\n",
        "  vxx['vvix'] = HV(pct(vxx.vix), 10)\n",
        "  for i in range(len(vxx)):\n",
        "    if vxx.vix_slop[i] > h_thresh:\n",
        "      color.append('red')\n",
        "      c_label.append(-2)\n",
        "    elif vxx.vix_slop[i] < h_thresh and vxx.vix_slop[i] > l_thresh:\n",
        "      color.append('orange')\n",
        "      c_label.append(-1)\n",
        "    elif vxx.vix_slop[i] > -l_thresh and vxx.vix_slop[i] < l_thresh:\n",
        "      color.append('green')\n",
        "      c_label.append(0)\n",
        "    elif vxx.vix_slop[i] < -l_thresh and vxx.vix_slop[i] > -h_thresh:\n",
        "      color.append('blue')\n",
        "      c_label.append(1)\n",
        "    else:\n",
        "      color.append('purple')\n",
        "      c_label.append(2)\n",
        "  for i in range(len(color)):\n",
        "    if color[i] == 'green' and vxx['mx'][i] > mx_thresh:\n",
        "        color[i] = 'purple'\n",
        "        c_label[i] = 2\n",
        "    if color[i] == 'green' and vxx['vvix'][i] > vvix_thresh:\n",
        "        color[i] = 'purple'\n",
        "        c_label[i] = 2\n",
        "  return color, c_label\n",
        "\n",
        "def vix_status(vxx, sma_thresh, mx_thresh, vvix_thresh): #returns status of vix e.g. climbing, falling, flat, etc.\n",
        "  status = [np.nan]*len(vxx)\n",
        "  color = [np.nan]*len(vxx)\n",
        "  vxx['vvix'] = HV(pct(vxx.vix), 10)\n",
        "  for i in range(len(vxx)):\n",
        "    if vxx.vix_sma_20[i] < sma_thresh and vxx.vix_sma_20[i] > -sma_thresh:\n",
        "      if vxx.mx_20[i] > mx_thresh and vxx['vvix'][i]<vvix_thresh:\n",
        "        status[i] = 'calm_fall'\n",
        "        color[i] = 'blue'\n",
        "      elif vxx.mx_20[i] < mx_thresh and vxx['vvix'][i]<vvix_thresh:\n",
        "        status[i] = 'calm'\n",
        "        color[i] = 'green'\n",
        "      else:\n",
        "        status[i] = 'yellow'\n",
        "        color[i] = 'yellow'\n",
        "    elif vxx.vix_sma_20[i] < -sma_thresh:\n",
        "      status[i] = 'sharp_fall'\n",
        "      color[i] = 'purple'\n",
        "    else:\n",
        "      if vxx.mx_20[i] > mx_thresh:\n",
        "        status[i] = 'fall of peak'\n",
        "        color[i] = 'orange'\n",
        "      else:\n",
        "        status[i] = 'peaking'\n",
        "        color[i] = 'red'\n",
        "  return status, color\n",
        "\n",
        "def maxer(df, days): #returns the difference between max in past 'days' periods and today, in %\n",
        "  maxs = [np.nan]*(days-1)\n",
        "  for i in range(days, len(df)+1): # len(df)+1 because range does not count the last int.\n",
        "    mx = max(df[i-days:i])\n",
        "    maxs.append(mx/df[i-1]-1)\n",
        "  return maxs\n",
        "\n",
        "def accum_pct(df, days, filler): # returns sum of pct moves over past 'days' periods including today.\n",
        "  pcts = [filler]*(days-1)\n",
        "  for i in range(days,len(df)+1):\n",
        "    pcts.append(sum(df[i-days:i]))\n",
        "  return pcts\n",
        "\n",
        "#receives df, name of column as string and threshold to return lables for the target based on threshold labeler\n",
        "def target_label(vxx, column, threshold): \n",
        "  target = vxx[column]\n",
        "  color = []\n",
        "  label = []\n",
        "  for i in range(len(target)):\n",
        "    if target[i] > threshold:\n",
        "      color.append('red')\n",
        "      label.append(-1)\n",
        "    elif target[i] > -threshold and target[i]< threshold:\n",
        "      color.append('yellow')\n",
        "      label.append(0)\n",
        "    else:\n",
        "      color.append('green')\n",
        "      label.append(1)\n",
        "  plt.hist(color);\n",
        "  plt.show()\n",
        "  plt.xlabel('Vix')\n",
        "  plt.ylabel('Cont/bckwrd')\n",
        "  plt.rcParams.update({'font.size': 18})\n",
        "  plt.scatter(vxx.vix, vxx.cont, marker = 'o',edgecolor=color, linewidth=1.2, color = color, s = 25, alpha=0.99)\n",
        "  plt.grid();\n",
        "  return label, color\n",
        "\n",
        "def labeler(target, thresh):\n",
        "  label = []\n",
        "  labels = []\n",
        "  for i in range(len(target)):\n",
        "    if target[i] > thresh:\n",
        "      labels.append('long')\n",
        "      label.append(0)\n",
        "    elif target[i] > -thresh and target[i]< thresh:\n",
        "      labels.append('cash')\n",
        "      label.append(1)\n",
        "    elif target[i] < -thresh:\n",
        "      labels.append('short')\n",
        "      label.append(2)\n",
        "    else:\n",
        "      labels.append(np.nan)\n",
        "      label.append(np.nan)\n",
        "  return label, labels"
      ],
      "execution_count": null,
      "outputs": []
    },
    {
      "cell_type": "markdown",
      "metadata": {
        "id": "AJys-0uBBCv4"
      },
      "source": [
        "# Minute Data\n",
        "\n",
        "- close\n",
        "- talib : rsi, bollinger, \n",
        "- lower lows, higher highs, candles to signal."
      ]
    },
    {
      "cell_type": "code",
      "metadata": {
        "id": "zSKT8VFkBHtF",
        "outputId": "13ecb60d-5f76-4ca3-bdae-c6da2b714c88",
        "colab": {
          "resources": {
            "http://localhost:8080/nbextensions/google.colab/files.js": {
              "data": "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",
              "ok": true,
              "headers": [
                [
                  "content-type",
                  "application/javascript"
                ]
              ],
              "status": 200,
              "status_text": "OK"
            }
          },
          "base_uri": "https://localhost:8080/",
          "height": 39
        }
      },
      "source": [
        "# upload the file into google colab\n",
        "from google.colab import files\n",
        "uploaded = files.upload()"
      ],
      "execution_count": null,
      "outputs": [
        {
          "output_type": "display_data",
          "data": {
            "text/html": [
              "\n",
              "     <input type=\"file\" id=\"files-7e087737-7a08-4773-ad64-4e9d5d33ae90\" name=\"files[]\" multiple disabled\n",
              "        style=\"border:none\" />\n",
              "     <output id=\"result-7e087737-7a08-4773-ad64-4e9d5d33ae90\">\n",
              "      Upload widget is only available when the cell has been executed in the\n",
              "      current browser session. Please rerun this cell to enable.\n",
              "      </output>\n",
              "      <script src=\"/nbextensions/google.colab/files.js\"></script> "
            ],
            "text/plain": [
              "<IPython.core.display.HTML object>"
            ]
          },
          "metadata": {
            "tags": []
          }
        }
      ]
    },
    {
      "cell_type": "code",
      "metadata": {
        "id": "kJrRLA7eBHpH",
        "outputId": "a0f4bcaa-f690-4ce5-d02b-1d3a09ab3656",
        "colab": {
          "base_uri": "https://localhost:8080/",
          "height": 112
        }
      },
      "source": [
        "spx = pdr.get_data_yahoo('SPY', start= '2004-01-02', end = '2020-09-12')\n",
        "spx.reset_index(inplace=True)\n",
        "spx.drop('Adj Close', axis = 1, inplace=True)\n",
        "spx.columns = ['date', 'high', 'low', 'open', 'close', 'volume']\n",
        "spx.head(2)"
      ],
      "execution_count": null,
      "outputs": [
        {
          "output_type": "execute_result",
          "data": {
            "text/html": [
              "<div>\n",
              "<style scoped>\n",
              "    .dataframe tbody tr th:only-of-type {\n",
              "        vertical-align: middle;\n",
              "    }\n",
              "\n",
              "    .dataframe tbody tr th {\n",
              "        vertical-align: top;\n",
              "    }\n",
              "\n",
              "    .dataframe thead th {\n",
              "        text-align: right;\n",
              "    }\n",
              "</style>\n",
              "<table border=\"1\" class=\"dataframe\">\n",
              "  <thead>\n",
              "    <tr style=\"text-align: right;\">\n",
              "      <th></th>\n",
              "      <th>date</th>\n",
              "      <th>high</th>\n",
              "      <th>low</th>\n",
              "      <th>open</th>\n",
              "      <th>close</th>\n",
              "      <th>volume</th>\n",
              "    </tr>\n",
              "  </thead>\n",
              "  <tbody>\n",
              "    <tr>\n",
              "      <th>0</th>\n",
              "      <td>2004-01-02</td>\n",
              "      <td>112.190002</td>\n",
              "      <td>110.730003</td>\n",
              "      <td>111.739998</td>\n",
              "      <td>111.230003</td>\n",
              "      <td>38072300.0</td>\n",
              "    </tr>\n",
              "    <tr>\n",
              "      <th>1</th>\n",
              "      <td>2004-01-05</td>\n",
              "      <td>112.519997</td>\n",
              "      <td>111.589996</td>\n",
              "      <td>111.690002</td>\n",
              "      <td>112.440002</td>\n",
              "      <td>27959800.0</td>\n",
              "    </tr>\n",
              "  </tbody>\n",
              "</table>\n",
              "</div>"
            ],
            "text/plain": [
              "        date        high         low        open       close      volume\n",
              "0 2004-01-02  112.190002  110.730003  111.739998  111.230003  38072300.0\n",
              "1 2004-01-05  112.519997  111.589996  111.690002  112.440002  27959800.0"
            ]
          },
          "metadata": {
            "tags": []
          },
          "execution_count": 4
        }
      ]
    },
    {
      "cell_type": "code",
      "metadata": {
        "id": "JqIkCLcLzbKu",
        "outputId": "e12a4e89-4e63-4f3e-f7de-4a9ff0381b9c",
        "colab": {
          "base_uri": "https://localhost:8080/",
          "height": 817
        }
      },
      "source": [
        "dt = pd.DatetimeIndex(spx.date)\n",
        "start_test = '2007-10-24'\n",
        "end_test = '2007-12-27'\n",
        "start = dt.get_loc(start_test)\n",
        "end = dt.get_loc(end_test)\n",
        "spy = spx[start:end]\n",
        "fig = go.Figure(data=[go.Candlestick(x=spy.date, open=spy.open, high=spy.high, low=spy.low, close=spy.close, whiskerwidth = 0.01,\n",
        "                                     increasing_fillcolor= 'green',decreasing_fillcolor= 'red',\n",
        "                                     increasing_line_color= 'black', decreasing_line_color= 'black',\n",
        "                                     hovertext = list(df.candlestick_pattern))])\n",
        "fig.update_layout( width=800, height=800, title=\"SPY\")\n",
        "fig.show();"
      ],
      "execution_count": null,
      "outputs": [
        {
          "output_type": "display_data",
          "data": {
            "text/html": [
              "<html>\n",
              "<head><meta charset=\"utf-8\" /></head>\n",
              "<body>\n",
              "    <div>\n",
              "            <script src=\"https://cdnjs.cloudflare.com/ajax/libs/mathjax/2.7.5/MathJax.js?config=TeX-AMS-MML_SVG\"></script><script type=\"text/javascript\">if (window.MathJax) {MathJax.Hub.Config({SVG: {font: \"STIX-Web\"}});}</script>\n",
              "                <script type=\"text/javascript\">window.PlotlyConfig = {MathJaxConfig: 'local'};</script>\n",
              "        <script src=\"https://cdn.plot.ly/plotly-latest.min.js\"></script>    \n",
              "            <div id=\"3b87feda-a566-4445-84a8-ab073c9ffde8\" class=\"plotly-graph-div\" style=\"height:800px; width:800px;\"></div>\n",
              "            <script type=\"text/javascript\">\n",
              "                \n",
              "                    window.PLOTLYENV=window.PLOTLYENV || {};\n",
              "                    \n",
              "                if (document.getElementById(\"3b87feda-a566-4445-84a8-ab073c9ffde8\")) {\n",
              "                    Plotly.newPlot(\n",
              "                        '3b87feda-a566-4445-84a8-ab073c9ffde8',\n",
              "                        [{\"close\": [151.47999572753906, 151.83999633789062, 153.6199951171875, 154.1300048828125, 153.05999755859375, 154.64999389648438, 151.02999877929688, 151.1999969482422, 150.0500030517578, 152.07000732421875, 147.91000366210938, 147.16000366210938, 145.13999938964844, 143.6999969482422, 148.0800018310547, 147.6699981689453, 145.5399932861328, 145.7899932861328, 143.75999450683594, 144.63999938964844, 141.67999267578125, 144.1300048828125, 140.9499969482422, 142.57000732421875, 147.1300048828125, 147.17999267578125, 148.66000366210938, 147.67999267578125, 146.36000061035156, 148.80999755859375, 150.94000244140625, 150.91000366210938, 152.0800018310547, 147.91000366210938, 149.3699951171875, 149.05999755859375, 147.1699981689453, 145.07000732421875, 145.8800048828125, 145.8800048828125, 146.8000030517578, 148.1300048828125, 149.22999572753906, 149.5500030517578], \"decreasing\": {\"fillcolor\": \"red\", \"line\": {\"color\": \"black\"}}, \"high\": [151.74000549316406, 152.2899932861328, 153.6199951171875, 154.44000244140625, 153.75, 155.27000427246094, 153.41000366210938, 152.0, 151.16000366210938, 152.11000061035156, 151.1300048828125, 148.39999389648438, 147.5399932861328, 146.61000061035156, 148.30999755859375, 149.39999389648438, 147.49000549316406, 146.47000122070312, 145.36000061035156, 145.52999877929688, 143.91000366210938, 144.33999633789062, 144.8800048828125, 143.22999572753906, 147.47000122070312, 147.72000122070312, 149.8699951171875, 148.4499969482422, 147.5399932861328, 149.1999969482422, 151.2100067138672, 151.5, 152.25, 152.88999938964844, 151.77000427246094, 149.38999938964844, 149.10000610351562, 146.8699951171875, 146.47999572753906, 146.88999938964844, 146.86000061035156, 148.4199981689453, 149.47999572753906, 149.67999267578125], \"hovertext\": [\"NO_PATTERN\", \"NO_PATTERN\", \"NO_PATTERN\", \"NO_PATTERN\", \"NO_PATTERN\", \"NO_PATTERN\", \"NO_PATTERN\", \"NO_PATTERN\", \"NO_PATTERN\", \"NO_PATTERN\", \"CDLLONGLINE_Bear\", \"NO_PATTERN\", \"NO_PATTERN\", \"CDLCLOSINGMARUBOZU_Bear\", \"CDLLADDERBOTTOM_Bull\", \"CDLBELTHOLD_Bear\", \"NO_PATTERN\", \"NO_PATTERN\", \"CDLBELTHOLD_Bear\", \"CDLHARAMI_Bull\", \"CDLCLOSINGMARUBOZU_Bear\", \"CDLSHORTLINE_Bull\", \"CDLENGULFING_Bear\", \"CDLHARAMI_Bull\", \"CDL3INSIDE_Bull\", \"CDLSHORTLINE_Bull\", \"CDLHIGHWAVE_Bear\", \"CDLSHORTLINE_Bear\", \"CDLINVERTEDHAMMER_Bull\", \"CDLSHORTLINE_Bull\", \"CDLBELTHOLD_Bull\", \"CDLSHORTLINE_Bear\", \"CDLSHORTLINE_Bull\", \"CDLCLOSINGMARUBOZU_Bear\", \"NO_PATTERN\", \"CDLUNIQUE3RIVER_Bull\", \"CDLINVERTEDHAMMER_Bull\", \"CDLCLOSINGMARUBOZU_Bear\", \"CDLHOMINGPIGEON_Bull\", \"CDLMATCHINGLOW_Bull\", \"CDLLONGLEGGEDDOJI_Bull\", \"CDLHIKKAKE_Bear\", \"CDLSHORTLINE_Bull\", \"CDLSHORTLINE_Bull\"], \"increasing\": {\"fillcolor\": \"green\", \"line\": {\"color\": \"black\"}}, \"low\": [148.83999633789062, 149.8800048828125, 151.89999389648438, 153.5500030517578, 152.8699951171875, 152.83999633789062, 150.58999633789062, 149.2100067138672, 148.97000122070312, 149.89999389648438, 147.5500030517578, 145.07000732421875, 144.88999938964844, 143.6999969482422, 145.22000122070312, 146.77999877929688, 144.52000427246094, 144.57000732421875, 143.19000244140625, 142.11000061035156, 141.6699981689453, 142.6999969482422, 140.66000366210938, 140.9499969482422, 144.13999938964844, 146.10000610351562, 147.3300018310547, 147.2899932861328, 146.30999755859375, 147.8300018310547, 148.57000732421875, 150.5500030517578, 150.86000061035156, 147.8300018310547, 147.1999969482422, 147.3000030517578, 147.10000610351562, 144.86000061035156, 143.9600067138672, 144.94000244140625, 145.17999267578125, 147.08999633789062, 148.47999572753906, 148.5], \"open\": [151.2100067138672, 151.64999389648438, 153.05999755859375, 153.92999267578125, 153.4499969482422, 153.97999572753906, 153.2899932861328, 151.52999877929688, 149.63999938964844, 150.86000061035156, 150.44000244140625, 147.99000549316406, 145.69000244140625, 145.2100067138672, 145.3699951171875, 149.22000122070312, 146.57000732421875, 146.30999755859375, 145.27999877929688, 144.02000427246094, 143.0800018310547, 143.07000732421875, 144.42999267578125, 141.74000549316406, 144.19000244140625, 146.6199951171875, 149.0399932861328, 148.19000244140625, 146.66000366210938, 147.92999267578125, 148.6300048828125, 151.4199981689453, 151.27999877929688, 152.13999938964844, 151.05999755859375, 148.32000732421875, 147.92999267578125, 146.61000061035156, 146.10000610351562, 145.94000244140625, 146.83999633789062, 147.3699951171875, 148.82000732421875, 148.64999389648438], \"type\": \"candlestick\", \"whiskerwidth\": 0.01, \"x\": [\"2007-10-24T00:00:00\", \"2007-10-25T00:00:00\", \"2007-10-26T00:00:00\", \"2007-10-29T00:00:00\", \"2007-10-30T00:00:00\", \"2007-10-31T00:00:00\", \"2007-11-01T00:00:00\", \"2007-11-02T00:00:00\", \"2007-11-05T00:00:00\", \"2007-11-06T00:00:00\", \"2007-11-07T00:00:00\", \"2007-11-08T00:00:00\", \"2007-11-09T00:00:00\", \"2007-11-12T00:00:00\", \"2007-11-13T00:00:00\", \"2007-11-14T00:00:00\", \"2007-11-15T00:00:00\", \"2007-11-16T00:00:00\", \"2007-11-19T00:00:00\", \"2007-11-20T00:00:00\", \"2007-11-21T00:00:00\", \"2007-11-23T00:00:00\", \"2007-11-26T00:00:00\", \"2007-11-27T00:00:00\", \"2007-11-28T00:00:00\", \"2007-11-29T00:00:00\", \"2007-11-30T00:00:00\", \"2007-12-03T00:00:00\", \"2007-12-04T00:00:00\", \"2007-12-05T00:00:00\", \"2007-12-06T00:00:00\", \"2007-12-07T00:00:00\", \"2007-12-10T00:00:00\", \"2007-12-11T00:00:00\", \"2007-12-12T00:00:00\", \"2007-12-13T00:00:00\", \"2007-12-14T00:00:00\", \"2007-12-17T00:00:00\", \"2007-12-18T00:00:00\", \"2007-12-19T00:00:00\", \"2007-12-20T00:00:00\", \"2007-12-21T00:00:00\", \"2007-12-24T00:00:00\", \"2007-12-26T00:00:00\"]}],\n",
              "                        {\"height\": 800, \"template\": {\"data\": {\"bar\": [{\"error_x\": {\"color\": \"#2a3f5f\"}, \"error_y\": {\"color\": \"#2a3f5f\"}, \"marker\": {\"line\": {\"color\": \"#E5ECF6\", \"width\": 0.5}}, \"type\": \"bar\"}], \"barpolar\": [{\"marker\": {\"line\": {\"color\": \"#E5ECF6\", \"width\": 0.5}}, \"type\": \"barpolar\"}], \"carpet\": [{\"aaxis\": {\"endlinecolor\": \"#2a3f5f\", \"gridcolor\": \"white\", \"linecolor\": \"white\", \"minorgridcolor\": \"white\", \"startlinecolor\": \"#2a3f5f\"}, \"baxis\": {\"endlinecolor\": \"#2a3f5f\", \"gridcolor\": \"white\", \"linecolor\": \"white\", \"minorgridcolor\": \"white\", \"startlinecolor\": \"#2a3f5f\"}, \"type\": \"carpet\"}], \"choropleth\": [{\"colorbar\": {\"outlinewidth\": 0, \"ticks\": \"\"}, \"type\": \"choropleth\"}], \"contour\": [{\"colorbar\": {\"outlinewidth\": 0, \"ticks\": \"\"}, \"colorscale\": [[0.0, \"#0d0887\"], [0.1111111111111111, \"#46039f\"], [0.2222222222222222, \"#7201a8\"], [0.3333333333333333, \"#9c179e\"], [0.4444444444444444, \"#bd3786\"], [0.5555555555555556, \"#d8576b\"], [0.6666666666666666, \"#ed7953\"], [0.7777777777777778, \"#fb9f3a\"], [0.8888888888888888, \"#fdca26\"], [1.0, \"#f0f921\"]], \"type\": \"contour\"}], \"contourcarpet\": [{\"colorbar\": {\"outlinewidth\": 0, \"ticks\": \"\"}, \"type\": \"contourcarpet\"}], \"heatmap\": [{\"colorbar\": {\"outlinewidth\": 0, \"ticks\": \"\"}, \"colorscale\": [[0.0, \"#0d0887\"], [0.1111111111111111, \"#46039f\"], [0.2222222222222222, \"#7201a8\"], [0.3333333333333333, \"#9c179e\"], [0.4444444444444444, \"#bd3786\"], [0.5555555555555556, \"#d8576b\"], [0.6666666666666666, \"#ed7953\"], [0.7777777777777778, \"#fb9f3a\"], [0.8888888888888888, \"#fdca26\"], [1.0, \"#f0f921\"]], \"type\": \"heatmap\"}], \"heatmapgl\": [{\"colorbar\": {\"outlinewidth\": 0, \"ticks\": \"\"}, \"colorscale\": [[0.0, \"#0d0887\"], [0.1111111111111111, \"#46039f\"], [0.2222222222222222, \"#7201a8\"], [0.3333333333333333, \"#9c179e\"], [0.4444444444444444, \"#bd3786\"], [0.5555555555555556, \"#d8576b\"], [0.6666666666666666, \"#ed7953\"], [0.7777777777777778, \"#fb9f3a\"], [0.8888888888888888, \"#fdca26\"], [1.0, \"#f0f921\"]], \"type\": \"heatmapgl\"}], \"histogram\": [{\"marker\": {\"colorbar\": {\"outlinewidth\": 0, \"ticks\": \"\"}}, \"type\": \"histogram\"}], \"histogram2d\": [{\"colorbar\": {\"outlinewidth\": 0, \"ticks\": \"\"}, \"colorscale\": [[0.0, \"#0d0887\"], [0.1111111111111111, \"#46039f\"], [0.2222222222222222, \"#7201a8\"], [0.3333333333333333, \"#9c179e\"], [0.4444444444444444, \"#bd3786\"], [0.5555555555555556, \"#d8576b\"], [0.6666666666666666, \"#ed7953\"], [0.7777777777777778, \"#fb9f3a\"], [0.8888888888888888, \"#fdca26\"], [1.0, \"#f0f921\"]], \"type\": \"histogram2d\"}], \"histogram2dcontour\": [{\"colorbar\": {\"outlinewidth\": 0, \"ticks\": \"\"}, \"colorscale\": [[0.0, \"#0d0887\"], [0.1111111111111111, \"#46039f\"], [0.2222222222222222, \"#7201a8\"], [0.3333333333333333, \"#9c179e\"], [0.4444444444444444, \"#bd3786\"], [0.5555555555555556, \"#d8576b\"], [0.6666666666666666, \"#ed7953\"], [0.7777777777777778, \"#fb9f3a\"], [0.8888888888888888, \"#fdca26\"], [1.0, \"#f0f921\"]], \"type\": \"histogram2dcontour\"}], \"mesh3d\": [{\"colorbar\": {\"outlinewidth\": 0, \"ticks\": \"\"}, \"type\": \"mesh3d\"}], \"parcoords\": [{\"line\": {\"colorbar\": {\"outlinewidth\": 0, \"ticks\": \"\"}}, \"type\": \"parcoords\"}], \"pie\": [{\"automargin\": true, \"type\": \"pie\"}], \"scatter\": [{\"marker\": {\"colorbar\": {\"outlinewidth\": 0, \"ticks\": \"\"}}, \"type\": \"scatter\"}], \"scatter3d\": [{\"line\": {\"colorbar\": {\"outlinewidth\": 0, \"ticks\": \"\"}}, \"marker\": {\"colorbar\": {\"outlinewidth\": 0, \"ticks\": \"\"}}, \"type\": \"scatter3d\"}], \"scattercarpet\": [{\"marker\": {\"colorbar\": {\"outlinewidth\": 0, \"ticks\": \"\"}}, \"type\": \"scattercarpet\"}], \"scattergeo\": [{\"marker\": {\"colorbar\": {\"outlinewidth\": 0, \"ticks\": \"\"}}, \"type\": \"scattergeo\"}], \"scattergl\": [{\"marker\": {\"colorbar\": {\"outlinewidth\": 0, \"ticks\": \"\"}}, \"type\": \"scattergl\"}], \"scattermapbox\": [{\"marker\": {\"colorbar\": {\"outlinewidth\": 0, \"ticks\": \"\"}}, \"type\": \"scattermapbox\"}], \"scatterpolar\": [{\"marker\": {\"colorbar\": {\"outlinewidth\": 0, \"ticks\": \"\"}}, \"type\": \"scatterpolar\"}], \"scatterpolargl\": [{\"marker\": {\"colorbar\": {\"outlinewidth\": 0, \"ticks\": \"\"}}, \"type\": \"scatterpolargl\"}], \"scatterternary\": [{\"marker\": {\"colorbar\": {\"outlinewidth\": 0, \"ticks\": \"\"}}, \"type\": \"scatterternary\"}], \"surface\": [{\"colorbar\": {\"outlinewidth\": 0, \"ticks\": \"\"}, \"colorscale\": [[0.0, \"#0d0887\"], [0.1111111111111111, \"#46039f\"], [0.2222222222222222, \"#7201a8\"], [0.3333333333333333, \"#9c179e\"], [0.4444444444444444, \"#bd3786\"], [0.5555555555555556, \"#d8576b\"], [0.6666666666666666, \"#ed7953\"], [0.7777777777777778, \"#fb9f3a\"], [0.8888888888888888, \"#fdca26\"], [1.0, \"#f0f921\"]], \"type\": \"surface\"}], \"table\": [{\"cells\": {\"fill\": {\"color\": \"#EBF0F8\"}, \"line\": {\"color\": \"white\"}}, \"header\": {\"fill\": {\"color\": \"#C8D4E3\"}, \"line\": {\"color\": \"white\"}}, \"type\": \"table\"}]}, \"layout\": {\"annotationdefaults\": {\"arrowcolor\": \"#2a3f5f\", \"arrowhead\": 0, \"arrowwidth\": 1}, \"coloraxis\": {\"colorbar\": {\"outlinewidth\": 0, \"ticks\": \"\"}}, \"colorscale\": {\"diverging\": [[0, \"#8e0152\"], [0.1, \"#c51b7d\"], [0.2, \"#de77ae\"], [0.3, \"#f1b6da\"], [0.4, \"#fde0ef\"], [0.5, \"#f7f7f7\"], [0.6, \"#e6f5d0\"], [0.7, \"#b8e186\"], [0.8, \"#7fbc41\"], [0.9, \"#4d9221\"], [1, \"#276419\"]], \"sequential\": [[0.0, \"#0d0887\"], [0.1111111111111111, \"#46039f\"], [0.2222222222222222, \"#7201a8\"], [0.3333333333333333, \"#9c179e\"], [0.4444444444444444, \"#bd3786\"], [0.5555555555555556, \"#d8576b\"], [0.6666666666666666, \"#ed7953\"], [0.7777777777777778, \"#fb9f3a\"], [0.8888888888888888, \"#fdca26\"], [1.0, \"#f0f921\"]], \"sequentialminus\": [[0.0, \"#0d0887\"], [0.1111111111111111, \"#46039f\"], [0.2222222222222222, \"#7201a8\"], [0.3333333333333333, \"#9c179e\"], [0.4444444444444444, \"#bd3786\"], [0.5555555555555556, \"#d8576b\"], [0.6666666666666666, \"#ed7953\"], [0.7777777777777778, \"#fb9f3a\"], [0.8888888888888888, \"#fdca26\"], [1.0, \"#f0f921\"]]}, \"colorway\": [\"#636efa\", \"#EF553B\", \"#00cc96\", \"#ab63fa\", \"#FFA15A\", \"#19d3f3\", \"#FF6692\", \"#B6E880\", \"#FF97FF\", \"#FECB52\"], \"font\": {\"color\": \"#2a3f5f\"}, \"geo\": {\"bgcolor\": \"white\", \"lakecolor\": \"white\", \"landcolor\": \"#E5ECF6\", \"showlakes\": true, \"showland\": true, \"subunitcolor\": \"white\"}, \"hoverlabel\": {\"align\": \"left\"}, \"hovermode\": \"closest\", \"mapbox\": {\"style\": \"light\"}, \"paper_bgcolor\": \"white\", \"plot_bgcolor\": \"#E5ECF6\", \"polar\": {\"angularaxis\": {\"gridcolor\": \"white\", \"linecolor\": \"white\", \"ticks\": \"\"}, \"bgcolor\": \"#E5ECF6\", \"radialaxis\": {\"gridcolor\": \"white\", \"linecolor\": \"white\", \"ticks\": \"\"}}, \"scene\": {\"xaxis\": {\"backgroundcolor\": \"#E5ECF6\", \"gridcolor\": \"white\", \"gridwidth\": 2, \"linecolor\": \"white\", \"showbackground\": true, \"ticks\": \"\", \"zerolinecolor\": \"white\"}, \"yaxis\": {\"backgroundcolor\": \"#E5ECF6\", \"gridcolor\": \"white\", \"gridwidth\": 2, \"linecolor\": \"white\", \"showbackground\": true, \"ticks\": \"\", \"zerolinecolor\": \"white\"}, \"zaxis\": {\"backgroundcolor\": \"#E5ECF6\", \"gridcolor\": \"white\", \"gridwidth\": 2, \"linecolor\": \"white\", \"showbackground\": true, \"ticks\": \"\", \"zerolinecolor\": \"white\"}}, \"shapedefaults\": {\"line\": {\"color\": \"#2a3f5f\"}}, \"ternary\": {\"aaxis\": {\"gridcolor\": \"white\", \"linecolor\": \"white\", \"ticks\": \"\"}, \"baxis\": {\"gridcolor\": \"white\", \"linecolor\": \"white\", \"ticks\": \"\"}, \"bgcolor\": \"#E5ECF6\", \"caxis\": {\"gridcolor\": \"white\", \"linecolor\": \"white\", \"ticks\": \"\"}}, \"title\": {\"x\": 0.05}, \"xaxis\": {\"automargin\": true, \"gridcolor\": \"white\", \"linecolor\": \"white\", \"ticks\": \"\", \"title\": {\"standoff\": 15}, \"zerolinecolor\": \"white\", \"zerolinewidth\": 2}, \"yaxis\": {\"automargin\": true, \"gridcolor\": \"white\", \"linecolor\": \"white\", \"ticks\": \"\", \"title\": {\"standoff\": 15}, \"zerolinecolor\": \"white\", \"zerolinewidth\": 2}}}, \"title\": {\"text\": \"SPY\"}, \"width\": 800},\n",
              "                        {\"responsive\": true}\n",
              "                    ).then(function(){\n",
              "                            \n",
              "var gd = document.getElementById('3b87feda-a566-4445-84a8-ab073c9ffde8');\n",
              "var x = new MutationObserver(function (mutations, observer) {{\n",
              "        var display = window.getComputedStyle(gd).display;\n",
              "        if (!display || display === 'none') {{\n",
              "            console.log([gd, 'removed!']);\n",
              "            Plotly.purge(gd);\n",
              "            observer.disconnect();\n",
              "        }}\n",
              "}});\n",
              "\n",
              "// Listen for the removal of the full notebook cells\n",
              "var notebookContainer = gd.closest('#notebook-container');\n",
              "if (notebookContainer) {{\n",
              "    x.observe(notebookContainer, {childList: true});\n",
              "}}\n",
              "\n",
              "// Listen for the clearing of the current output cell\n",
              "var outputEl = gd.closest('.output');\n",
              "if (outputEl) {{\n",
              "    x.observe(outputEl, {childList: true});\n",
              "}}\n",
              "\n",
              "                        })\n",
              "                };\n",
              "                \n",
              "            </script>\n",
              "        </div>\n",
              "</body>\n",
              "</html>"
            ]
          },
          "metadata": {
            "tags": []
          }
        }
      ]
    },
    {
      "cell_type": "code",
      "metadata": {
        "id": "mCjzcSOZAj25"
      },
      "source": [
        "!wget https://launchpad.net/~mario-mariomedina/+archive/ubuntu/talib/+files/libta-lib0_0.4.0-oneiric1_amd64.deb -qO libta.deb\n",
        "!wget https://launchpad.net/~mario-mariomedina/+archive/ubuntu/talib/+files/ta-lib0-dev_0.4.0-oneiric1_amd64.deb -qO ta.deb\n",
        "!dpkg -i libta.deb ta.deb\n",
        "!pip install ta-lib\n",
        "import talib"
      ],
      "execution_count": null,
      "outputs": []
    },
    {
      "cell_type": "code",
      "metadata": {
        "id": "H9rY0YJDFMHS"
      },
      "source": [
        "candle_rankings = {\n",
        "        \"CDL3LINESTRIKE_Bull\": 1,\n",
        "        \"CDL3LINESTRIKE_Bear\": 2,\n",
        "        \"CDL3BLACKCROWS_Bull\": 3,\n",
        "        \"CDL3BLACKCROWS_Bear\": 3,\n",
        "        \"CDLEVENINGSTAR_Bull\": 4,\n",
        "        \"CDLEVENINGSTAR_Bear\": 4,\n",
        "        \"CDLTASUKIGAP_Bull\": 5,\n",
        "        \"CDLTASUKIGAP_Bear\": 5,\n",
        "        \"CDLINVERTEDHAMMER_Bull\": 6,\n",
        "        \"CDLINVERTEDHAMMER_Bear\": 6,\n",
        "        \"CDLMATCHINGLOW_Bull\": 7,\n",
        "        \"CDLMATCHINGLOW_Bear\": 7,\n",
        "        \"CDLABANDONEDBABY_Bull\": 8,\n",
        "        \"CDLABANDONEDBABY_Bear\": 8,\n",
        "        \"CDLBREAKAWAY_Bull\": 10,\n",
        "        \"CDLBREAKAWAY_Bear\": 10,\n",
        "        \"CDLMORNINGSTAR_Bull\": 12,\n",
        "        \"CDLMORNINGSTAR_Bear\": 12,\n",
        "        \"CDLPIERCING_Bull\": 13,\n",
        "        \"CDLPIERCING_Bear\": 13,\n",
        "        \"CDLSTICKSANDWICH_Bull\": 14,\n",
        "        \"CDLSTICKSANDWICH_Bear\": 14,\n",
        "        \"CDLTHRUSTING_Bull\": 15,\n",
        "        \"CDLTHRUSTING_Bear\": 15,\n",
        "        \"CDLINNECK_Bull\": 17,\n",
        "        \"CDLINNECK_Bear\": 17,\n",
        "        \"CDL3INSIDE_Bull\": 20,\n",
        "        \"CDL3INSIDE_Bear\": 56,\n",
        "        \"CDLHOMINGPIGEON_Bull\": 21,\n",
        "        \"CDLHOMINGPIGEON_Bear\": 21,\n",
        "        \"CDLDARKCLOUDCOVER_Bull\": 22,\n",
        "        \"CDLDARKCLOUDCOVER_Bear\": 22,\n",
        "        \"CDLIDENTICAL3CROWS_Bull\": 24,\n",
        "        \"CDLIDENTICAL3CROWS_Bear\": 24,\n",
        "        \"CDLMORNINGDOJISTAR_Bull\": 25,\n",
        "        \"CDLMORNINGDOJISTAR_Bear\": 25,\n",
        "        \"CDLXSIDEGAP3METHODS_Bull\": 27,\n",
        "        \"CDLXSIDEGAP3METHODS_Bear\": 26,\n",
        "        \"CDLTRISTAR_Bull\": 28,\n",
        "        \"CDLTRISTAR_Bear\": 76,\n",
        "        \"CDLGAPSIDESIDEWHITE_Bull\": 46,\n",
        "        \"CDLGAPSIDESIDEWHITE_Bear\": 29,\n",
        "        \"CDLEVENINGDOJISTAR_Bull\": 30,\n",
        "        \"CDLEVENINGDOJISTAR_Bear\": 30,\n",
        "        \"CDL3WHITESOLDIERS_Bull\": 32,\n",
        "        \"CDL3WHITESOLDIERS_Bear\": 32,\n",
        "        \"CDLONNECK_Bull\": 33,\n",
        "        \"CDLONNECK_Bear\": 33,\n",
        "        \"CDL3OUTSIDE_Bull\": 34,\n",
        "        \"CDL3OUTSIDE_Bear\": 39,\n",
        "        \"CDLRICKSHAWMAN_Bull\": 35,\n",
        "        \"CDLRICKSHAWMAN_Bear\": 35,\n",
        "        \"CDLSEPARATINGLINES_Bull\": 36,\n",
        "        \"CDLSEPARATINGLINES_Bear\": 40,\n",
        "        \"CDLLONGLEGGEDDOJI_Bull\": 37,\n",
        "        \"CDLLONGLEGGEDDOJI_Bear\": 37,\n",
        "        \"CDLHARAMI_Bull\": 38,\n",
        "        \"CDLHARAMI_Bear\": 72,\n",
        "        \"CDLLADDERBOTTOM_Bull\": 41,\n",
        "        \"CDLLADDERBOTTOM_Bear\": 41,\n",
        "        \"CDLCLOSINGMARUBOZU_Bull\": 70,\n",
        "        \"CDLCLOSINGMARUBOZU_Bear\": 43,\n",
        "        \"CDLTAKURI_Bull\": 47,\n",
        "        \"CDLTAKURI_Bear\": 47,\n",
        "        \"CDLDOJISTAR_Bull\": 49,\n",
        "        \"CDLDOJISTAR_Bear\": 51,\n",
        "        \"CDLHARAMICROSS_Bull\": 50,\n",
        "        \"CDLHARAMICROSS_Bear\": 80,\n",
        "        \"CDLADVANCEBLOCK_Bull\": 54,\n",
        "        \"CDLADVANCEBLOCK_Bear\": 54,\n",
        "        \"CDLSHOOTINGSTAR_Bull\": 55,\n",
        "        \"CDLSHOOTINGSTAR_Bear\": 55,\n",
        "        \"CDLMARUBOZU_Bull\": 71,\n",
        "        \"CDLMARUBOZU_Bear\": 57,\n",
        "        \"CDLUNIQUE3RIVER_Bull\": 60,\n",
        "        \"CDLUNIQUE3RIVER_Bear\": 60,\n",
        "        \"CDL2CROWS_Bull\": 61,\n",
        "        \"CDL2CROWS_Bear\": 61,\n",
        "        \"CDLBELTHOLD_Bull\": 62,\n",
        "        \"CDLBELTHOLD_Bear\": 63,\n",
        "        \"CDLHAMMER_Bull\": 65,\n",
        "        \"CDLHAMMER_Bear\": 65,\n",
        "        \"CDLHIGHWAVE_Bull\": 67,\n",
        "        \"CDLHIGHWAVE_Bear\": 67,\n",
        "        \"CDLSPINNINGTOP_Bull\": 69,\n",
        "        \"CDLSPINNINGTOP_Bear\": 73,\n",
        "        \"CDLUPSIDEGAP2CROWS_Bull\": 74,\n",
        "        \"CDLUPSIDEGAP2CROWS_Bear\": 74,\n",
        "        \"CDLGRAVESTONEDOJI_Bull\": 77,\n",
        "        \"CDLGRAVESTONEDOJI_Bear\": 77,\n",
        "        \"CDLHIKKAKEMOD_Bull\": 82,\n",
        "        \"CDLHIKKAKEMOD_Bear\": 81,\n",
        "        \"CDLHIKKAKE_Bull\": 85,\n",
        "        \"CDLHIKKAKE_Bear\": 83,\n",
        "        \"CDLENGULFING_Bull\": 84,\n",
        "        \"CDLENGULFING_Bear\": 91,\n",
        "        \"CDLMATHOLD_Bull\": 86,\n",
        "        \"CDLMATHOLD_Bear\": 86,\n",
        "        \"CDLHANGINGMAN_Bull\": 87,\n",
        "        \"CDLHANGINGMAN_Bear\": 87,\n",
        "        \"CDLRISEFALL3METHODS_Bull\": 94,\n",
        "        \"CDLRISEFALL3METHODS_Bear\": 89,\n",
        "        \"CDLKICKING_Bull\": 96,\n",
        "        \"CDLKICKING_Bear\": 102,\n",
        "        \"CDLDRAGONFLYDOJI_Bull\": 98,\n",
        "        \"CDLDRAGONFLYDOJI_Bear\": 98,\n",
        "        \"CDLCONCEALBABYSWALL_Bull\": 101,\n",
        "        \"CDLCONCEALBABYSWALL_Bear\": 101,\n",
        "        \"CDL3STARSINSOUTH_Bull\": 103,\n",
        "        \"CDL3STARSINSOUTH_Bear\": 103,\n",
        "        \"CDLDOJI_Bull\": 104,\n",
        "        \"CDLDOJI_Bear\": 104,\n",
        "        \"CDLLONGLINE_Bull\": 105,\n",
        "        \"CDLLONGLINE_Bear\": 106,\n",
        "        \"CDLSHORTLINE_Bull\": 107\n",
        "    }"
      ],
      "execution_count": null,
      "outputs": []
    },
    {
      "cell_type": "code",
      "metadata": {
        "id": "AFvTWpkIDZX_",
        "outputId": "a78b22cc-0b7c-48c5-8f45-104a359c8920",
        "colab": {
          "base_uri": "https://localhost:8080/",
          "height": 132
        }
      },
      "source": [
        "candle_names = talib.get_function_groups()['Pattern Recognition']\n",
        "op = spy['open']\n",
        "hi = spy['high']\n",
        "lo = spy['low']\n",
        "cl = spy['close']# create columns for each pattern\n",
        "df = spy.copy(deep=True)\n",
        "for candle in candle_names:\n",
        "    # below is same as;\n",
        "    # spy[\"CDL3LINESTRIKE\"] = talib.CDL3LINESTRIKE(op, hi, lo, cl)\n",
        "    df[candle] = getattr(talib, candle)(op, hi, lo, cl)\n",
        "df.head(2)"
      ],
      "execution_count": null,
      "outputs": [
        {
          "output_type": "execute_result",
          "data": {
            "text/html": [
              "<div>\n",
              "<style scoped>\n",
              "    .dataframe tbody tr th:only-of-type {\n",
              "        vertical-align: middle;\n",
              "    }\n",
              "\n",
              "    .dataframe tbody tr th {\n",
              "        vertical-align: top;\n",
              "    }\n",
              "\n",
              "    .dataframe thead th {\n",
              "        text-align: right;\n",
              "    }\n",
              "</style>\n",
              "<table border=\"1\" class=\"dataframe\">\n",
              "  <thead>\n",
              "    <tr style=\"text-align: right;\">\n",
              "      <th></th>\n",
              "      <th>date</th>\n",
              "      <th>high</th>\n",
              "      <th>low</th>\n",
              "      <th>open</th>\n",
              "      <th>close</th>\n",
              "      <th>volume</th>\n",
              "      <th>CDL2CROWS</th>\n",
              "      <th>CDL3BLACKCROWS</th>\n",
              "      <th>CDL3INSIDE</th>\n",
              "      <th>CDL3LINESTRIKE</th>\n",
              "      <th>CDL3OUTSIDE</th>\n",
              "      <th>CDL3STARSINSOUTH</th>\n",
              "      <th>CDL3WHITESOLDIERS</th>\n",
              "      <th>CDLABANDONEDBABY</th>\n",
              "      <th>CDLADVANCEBLOCK</th>\n",
              "      <th>CDLBELTHOLD</th>\n",
              "      <th>CDLBREAKAWAY</th>\n",
              "      <th>CDLCLOSINGMARUBOZU</th>\n",
              "      <th>CDLCONCEALBABYSWALL</th>\n",
              "      <th>CDLCOUNTERATTACK</th>\n",
              "      <th>CDLDARKCLOUDCOVER</th>\n",
              "      <th>CDLDOJI</th>\n",
              "      <th>CDLDOJISTAR</th>\n",
              "      <th>CDLDRAGONFLYDOJI</th>\n",
              "      <th>CDLENGULFING</th>\n",
              "      <th>CDLEVENINGDOJISTAR</th>\n",
              "      <th>CDLEVENINGSTAR</th>\n",
              "      <th>CDLGAPSIDESIDEWHITE</th>\n",
              "      <th>CDLGRAVESTONEDOJI</th>\n",
              "      <th>CDLHAMMER</th>\n",
              "      <th>CDLHANGINGMAN</th>\n",
              "      <th>CDLHARAMI</th>\n",
              "      <th>CDLHARAMICROSS</th>\n",
              "      <th>CDLHIGHWAVE</th>\n",
              "      <th>CDLHIKKAKE</th>\n",
              "      <th>CDLHIKKAKEMOD</th>\n",
              "      <th>CDLHOMINGPIGEON</th>\n",
              "      <th>CDLIDENTICAL3CROWS</th>\n",
              "      <th>CDLINNECK</th>\n",
              "      <th>CDLINVERTEDHAMMER</th>\n",
              "      <th>CDLKICKING</th>\n",
              "      <th>CDLKICKINGBYLENGTH</th>\n",
              "      <th>CDLLADDERBOTTOM</th>\n",
              "      <th>CDLLONGLEGGEDDOJI</th>\n",
              "      <th>CDLLONGLINE</th>\n",
              "      <th>CDLMARUBOZU</th>\n",
              "      <th>CDLMATCHINGLOW</th>\n",
              "      <th>CDLMATHOLD</th>\n",
              "      <th>CDLMORNINGDOJISTAR</th>\n",
              "      <th>CDLMORNINGSTAR</th>\n",
              "      <th>CDLONNECK</th>\n",
              "      <th>CDLPIERCING</th>\n",
              "      <th>CDLRICKSHAWMAN</th>\n",
              "      <th>CDLRISEFALL3METHODS</th>\n",
              "      <th>CDLSEPARATINGLINES</th>\n",
              "      <th>CDLSHOOTINGSTAR</th>\n",
              "      <th>CDLSHORTLINE</th>\n",
              "      <th>CDLSPINNINGTOP</th>\n",
              "      <th>CDLSTALLEDPATTERN</th>\n",
              "      <th>CDLSTICKSANDWICH</th>\n",
              "      <th>CDLTAKURI</th>\n",
              "      <th>CDLTASUKIGAP</th>\n",
              "      <th>CDLTHRUSTING</th>\n",
              "      <th>CDLTRISTAR</th>\n",
              "      <th>CDLUNIQUE3RIVER</th>\n",
              "      <th>CDLUPSIDEGAP2CROWS</th>\n",
              "      <th>CDLXSIDEGAP3METHODS</th>\n",
              "    </tr>\n",
              "  </thead>\n",
              "  <tbody>\n",
              "    <tr>\n",
              "      <th>959</th>\n",
              "      <td>2007-10-24</td>\n",
              "      <td>151.740005</td>\n",
              "      <td>148.839996</td>\n",
              "      <td>151.210007</td>\n",
              "      <td>151.479996</td>\n",
              "      <td>326694200.0</td>\n",
              "      <td>0</td>\n",
              "      <td>0</td>\n",
              "      <td>0</td>\n",
              "      <td>0</td>\n",
              "      <td>0</td>\n",
              "      <td>0</td>\n",
              "      <td>0</td>\n",
              "      <td>0</td>\n",
              "      <td>0</td>\n",
              "      <td>0</td>\n",
              "      <td>0</td>\n",
              "      <td>0</td>\n",
              "      <td>0</td>\n",
              "      <td>0</td>\n",
              "      <td>0</td>\n",
              "      <td>0</td>\n",
              "      <td>0</td>\n",
              "      <td>0</td>\n",
              "      <td>0</td>\n",
              "      <td>0</td>\n",
              "      <td>0</td>\n",
              "      <td>0</td>\n",
              "      <td>0</td>\n",
              "      <td>0</td>\n",
              "      <td>0</td>\n",
              "      <td>0</td>\n",
              "      <td>0</td>\n",
              "      <td>0</td>\n",
              "      <td>0</td>\n",
              "      <td>0</td>\n",
              "      <td>0</td>\n",
              "      <td>0</td>\n",
              "      <td>0</td>\n",
              "      <td>0</td>\n",
              "      <td>0</td>\n",
              "      <td>0</td>\n",
              "      <td>0</td>\n",
              "      <td>0</td>\n",
              "      <td>0</td>\n",
              "      <td>0</td>\n",
              "      <td>0</td>\n",
              "      <td>0</td>\n",
              "      <td>0</td>\n",
              "      <td>0</td>\n",
              "      <td>0</td>\n",
              "      <td>0</td>\n",
              "      <td>0</td>\n",
              "      <td>0</td>\n",
              "      <td>0</td>\n",
              "      <td>0</td>\n",
              "      <td>0</td>\n",
              "      <td>0</td>\n",
              "      <td>0</td>\n",
              "      <td>0</td>\n",
              "      <td>0</td>\n",
              "      <td>0</td>\n",
              "      <td>0</td>\n",
              "      <td>0</td>\n",
              "      <td>0</td>\n",
              "      <td>0</td>\n",
              "      <td>0</td>\n",
              "    </tr>\n",
              "    <tr>\n",
              "      <th>960</th>\n",
              "      <td>2007-10-25</td>\n",
              "      <td>152.289993</td>\n",
              "      <td>149.880005</td>\n",
              "      <td>151.649994</td>\n",
              "      <td>151.839996</td>\n",
              "      <td>237374500.0</td>\n",
              "      <td>0</td>\n",
              "      <td>0</td>\n",
              "      <td>0</td>\n",
              "      <td>0</td>\n",
              "      <td>0</td>\n",
              "      <td>0</td>\n",
              "      <td>0</td>\n",
              "      <td>0</td>\n",
              "      <td>0</td>\n",
              "      <td>0</td>\n",
              "      <td>0</td>\n",
              "      <td>0</td>\n",
              "      <td>0</td>\n",
              "      <td>0</td>\n",
              "      <td>0</td>\n",
              "      <td>0</td>\n",
              "      <td>0</td>\n",
              "      <td>0</td>\n",
              "      <td>0</td>\n",
              "      <td>0</td>\n",
              "      <td>0</td>\n",
              "      <td>0</td>\n",
              "      <td>0</td>\n",
              "      <td>0</td>\n",
              "      <td>0</td>\n",
              "      <td>0</td>\n",
              "      <td>0</td>\n",
              "      <td>0</td>\n",
              "      <td>0</td>\n",
              "      <td>0</td>\n",
              "      <td>0</td>\n",
              "      <td>0</td>\n",
              "      <td>0</td>\n",
              "      <td>0</td>\n",
              "      <td>0</td>\n",
              "      <td>0</td>\n",
              "      <td>0</td>\n",
              "      <td>0</td>\n",
              "      <td>0</td>\n",
              "      <td>0</td>\n",
              "      <td>0</td>\n",
              "      <td>0</td>\n",
              "      <td>0</td>\n",
              "      <td>0</td>\n",
              "      <td>0</td>\n",
              "      <td>0</td>\n",
              "      <td>0</td>\n",
              "      <td>0</td>\n",
              "      <td>0</td>\n",
              "      <td>0</td>\n",
              "      <td>0</td>\n",
              "      <td>0</td>\n",
              "      <td>0</td>\n",
              "      <td>0</td>\n",
              "      <td>0</td>\n",
              "      <td>0</td>\n",
              "      <td>0</td>\n",
              "      <td>0</td>\n",
              "      <td>0</td>\n",
              "      <td>0</td>\n",
              "      <td>0</td>\n",
              "    </tr>\n",
              "  </tbody>\n",
              "</table>\n",
              "</div>"
            ],
            "text/plain": [
              "          date        high  ...  CDLUPSIDEGAP2CROWS  CDLXSIDEGAP3METHODS\n",
              "959 2007-10-24  151.740005  ...                   0                    0\n",
              "960 2007-10-25  152.289993  ...                   0                    0\n",
              "\n",
              "[2 rows x 67 columns]"
            ]
          },
          "metadata": {
            "tags": []
          },
          "execution_count": 61
        }
      ]
    },
    {
      "cell_type": "code",
      "metadata": {
        "id": "M0vXzGDtE2lW"
      },
      "source": [
        "from itertools import compress\n",
        "df['candlestick_pattern'] = np.nan\n",
        "df['candlestick_match_count'] = np.nan\n",
        "for index, row in df.iterrows():\n",
        "\n",
        "    # no pattern found\n",
        "    if len(row[candle_names]) - sum(row[candle_names] == 0) == 0:\n",
        "        df.loc[index,'candlestick_pattern'] = \"NO_PATTERN\"\n",
        "        df.loc[index, 'candlestick_match_count'] = 0\n",
        "    # single pattern found\n",
        "    elif len(row[candle_names]) - sum(row[candle_names] == 0) == 1:\n",
        "        # bull pattern 100 or 200\n",
        "        if any(row[candle_names].values > 0):\n",
        "            pattern = list(compress(row[candle_names].keys(), row[candle_names].values != 0))[0] + '_Bull'\n",
        "            df.loc[index, 'candlestick_pattern'] = pattern\n",
        "            df.loc[index, 'candlestick_match_count'] = 1\n",
        "        # bear pattern -100 or -200\n",
        "        else:\n",
        "            pattern = list(compress(row[candle_names].keys(), row[candle_names].values != 0))[0] + '_Bear'\n",
        "            df.loc[index, 'candlestick_pattern'] = pattern\n",
        "            df.loc[index, 'candlestick_match_count'] = 1\n",
        "    # multiple patterns matched -- select best performance\n",
        "    else:\n",
        "        # filter out pattern names from bool list of values\n",
        "        patterns = list(compress(row[candle_names].keys(), row[candle_names].values != 0))\n",
        "        container = []\n",
        "        for pattern in patterns:\n",
        "            if row[pattern] > 0:\n",
        "                container.append(pattern + '_Bull')\n",
        "            else:\n",
        "                container.append(pattern + '_Bear')\n",
        "        rank_list = [candle_rankings[p] for p in container]\n",
        "        if len(rank_list) == len(container):\n",
        "            rank_index_best = rank_list.index(min(rank_list))\n",
        "            df.loc[index, 'candlestick_pattern'] = container[rank_index_best]\n",
        "            df.loc[index, 'candlestick_match_count'] = len(container)\n",
        "# clean up candle columns\n",
        "df.drop(candle_names, axis = 1, inplace = True)"
      ],
      "execution_count": null,
      "outputs": []
    },
    {
      "cell_type": "code",
      "metadata": {
        "id": "TD0wjv-MGF-J",
        "outputId": "357f9058-3d34-40c8-8261-4dbef5bc06c6",
        "colab": {
          "base_uri": "https://localhost:8080/",
          "height": 112
        }
      },
      "source": [
        "df.head(2)"
      ],
      "execution_count": null,
      "outputs": [
        {
          "output_type": "execute_result",
          "data": {
            "text/html": [
              "<div>\n",
              "<style scoped>\n",
              "    .dataframe tbody tr th:only-of-type {\n",
              "        vertical-align: middle;\n",
              "    }\n",
              "\n",
              "    .dataframe tbody tr th {\n",
              "        vertical-align: top;\n",
              "    }\n",
              "\n",
              "    .dataframe thead th {\n",
              "        text-align: right;\n",
              "    }\n",
              "</style>\n",
              "<table border=\"1\" class=\"dataframe\">\n",
              "  <thead>\n",
              "    <tr style=\"text-align: right;\">\n",
              "      <th></th>\n",
              "      <th>date</th>\n",
              "      <th>high</th>\n",
              "      <th>low</th>\n",
              "      <th>open</th>\n",
              "      <th>close</th>\n",
              "      <th>volume</th>\n",
              "      <th>candlestick_pattern</th>\n",
              "      <th>candlestick_match_count</th>\n",
              "    </tr>\n",
              "  </thead>\n",
              "  <tbody>\n",
              "    <tr>\n",
              "      <th>959</th>\n",
              "      <td>2007-10-24</td>\n",
              "      <td>151.740005</td>\n",
              "      <td>148.839996</td>\n",
              "      <td>151.210007</td>\n",
              "      <td>151.479996</td>\n",
              "      <td>326694200.0</td>\n",
              "      <td>NO_PATTERN</td>\n",
              "      <td>0.0</td>\n",
              "    </tr>\n",
              "    <tr>\n",
              "      <th>960</th>\n",
              "      <td>2007-10-25</td>\n",
              "      <td>152.289993</td>\n",
              "      <td>149.880005</td>\n",
              "      <td>151.649994</td>\n",
              "      <td>151.839996</td>\n",
              "      <td>237374500.0</td>\n",
              "      <td>NO_PATTERN</td>\n",
              "      <td>0.0</td>\n",
              "    </tr>\n",
              "  </tbody>\n",
              "</table>\n",
              "</div>"
            ],
            "text/plain": [
              "          date        high  ...  candlestick_pattern  candlestick_match_count\n",
              "959 2007-10-24  151.740005  ...           NO_PATTERN                      0.0\n",
              "960 2007-10-25  152.289993  ...           NO_PATTERN                      0.0\n",
              "\n",
              "[2 rows x 8 columns]"
            ]
          },
          "metadata": {
            "tags": []
          },
          "execution_count": 80
        }
      ]
    },
    {
      "cell_type": "markdown",
      "metadata": {
        "id": "sQByW8mj62B5"
      },
      "source": [
        "# CandleSticks"
      ]
    },
    {
      "cell_type": "markdown",
      "metadata": {
        "id": "CqKn8HcN3p5u"
      },
      "source": [
        "![image.png](data:image/png;base64,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)"
      ]
    },
    {
      "cell_type": "markdown",
      "metadata": {
        "id": "AWyPh-Zy3sbp"
      },
      "source": [
        "- color (red or green) and direction (filled or white) is easily definable.\n",
        "- the shape is defined by three factors:\n",
        "\n",
        "> - ratio of body to height \n",
        "> - position of middle of body to middle of height.\n",
        "> - ratio of height to average of past 20 bars. \n",
        "> - filled or blank body.\n",
        "> - how positioned compared to previous bar.\n",
        "\n",
        "* if body is > 0.8 > 0.5 > 0.2  >  of height\n",
        "* if mid body located in 0>0.25>0.5>0.75>1 of height.\n",
        "* if height >1.5>1>0.5>0 of average past 20 bars. \n",
        "* if close > open.\n",
        "* if close is in  > 1% > 0.25 > 0 > -0.25 > -1% > of previous close.\n",
        "\n",
        "train the E matrix:\n",
        "- skip gram or continuos bag of words\n",
        "- a pipeline for scanning 100 stocks.\n"
      ]
    },
    {
      "cell_type": "code",
      "metadata": {
        "id": "BboZ9cJWbrbE"
      },
      "source": [
        "def normalized_close(df, column):\n",
        "  normalizeds = []\n",
        "  for i in range(len(df)):\n",
        "    thresh = df[column][i]\n",
        "    if df.pct[i] >= thresh:\n",
        "      normalizeds.append(3)\n",
        "    elif df.pct[i] < thresh and df.pct[i] >= 0.3*thresh:\n",
        "      normalizeds.append(2)\n",
        "    elif df.pct[i] < 0.3*thresh and df.pct[i] >= 0:\n",
        "      normalizeds.append(1)\n",
        "    elif df.pct[i] > -0.3*thresh and df.pct[i] < 0:\n",
        "      normalizeds.append(-1)\n",
        "    elif df.pct[i] <= -0.3*thresh and df.pct[i] > -thresh:\n",
        "      normalizeds.append(-2)\n",
        "    elif df.pct[i] <= -thresh:\n",
        "      normalizeds.append(-3)\n",
        "  return normalizeds\n",
        "\n",
        "def categorize(array, ratio1, ratio2):\n",
        "  normalizeds = []\n",
        "  for i in range(len(array)):\n",
        "    if  array[i] >= ratio2:\n",
        "      normalizeds.append(3)\n",
        "    elif array[i] <= ratio2 and array[i] >= ratio1:\n",
        "      normalizeds.append(2)\n",
        "    elif array[i] <= ratio1:\n",
        "      normalizeds.append(1)\n",
        "  return normalizeds\n",
        "\n",
        "def final_cats(spx):\n",
        "  cats = []\n",
        "  for i in range(len(spx)):\n",
        "    string = str(spx.close_open[i]) + str(spx.norm_close[i]) + str(spx.catg_b_h_ratio[i]) + str(spx.catg_mid_ratio[i]) + str(spx.catg_h_ratio[i])\n",
        "    cats.append(string)\n",
        "  return cats"
      ],
      "execution_count": null,
      "outputs": []
    },
    {
      "cell_type": "code",
      "metadata": {
        "id": "mtEuxIMTjp_Y"
      },
      "source": [
        ""
      ],
      "execution_count": null,
      "outputs": []
    },
    {
      "cell_type": "code",
      "metadata": {
        "id": "BuqbbqIQI1YY",
        "outputId": "ddbb458e-e69e-4a4b-96f6-a4a69498fde5",
        "colab": {
          "base_uri": "https://localhost:8080/",
          "height": 245
        }
      },
      "source": [
        "spx = pdr.get_data_yahoo('SPY', start= '2004-01-02', end = '2020-09-12')\n",
        "spx.reset_index(inplace=True)\n",
        "spx.drop('Adj Close', axis = 1, inplace=True)\n",
        "spx = spx.round(2)\n",
        "spx.columns = ['date', 'high', 'low', 'open', 'close', 'volume']\n",
        "spx['height'] = (spx.high - spx.low)/spx.low\n",
        "spx['body'] = abs(spx.open - spx.close)/spx.low\n",
        "spx['b_h_ratio'] = spx.body/spx.height\n",
        "spx['mid_body'] = spx.close/2 + spx.open/2\n",
        "spx['mid_ratio'] = (spx.mid_body-spx.low)/(spx.high - spx.low)\n",
        "spx['sma_10_height'] = sma(spx.height, 10)\n",
        "spx['height_ratio'] = spx.height/spx['sma_10_height']\n",
        "spx['close_open'] = spx.close > spx.open\n",
        "spx['pct'] = pct(spx.close)\n",
        "spx['norm_close'] = normalized_close(spx, 'sma_10_height')\n",
        "spx['catg_b_h_ratio'] = categorize(spx.b_h_ratio, 0.3, 0.7)\n",
        "spx['catg_mid_ratio'] = categorize(spx.mid_ratio, 0.4, 0.6)\n",
        "spx['catg_h_ratio'] = categorize(spx.height_ratio, 0.7, 1.2)\n",
        "spx['candles'] = final_cats(spx)\n",
        "spx = spx[10:]\n",
        "spx.reset_index(inplace=True, drop=True)\n",
        "print(len(np.unique(spx.candles)), 'candle types out of total possible combinations of', 3*3*3*2*6)\n",
        "spx.head(3)"
      ],
      "execution_count": null,
      "outputs": [
        {
          "output_type": "stream",
          "text": [
            "234 candle types out of total possible combinations of 324\n"
          ],
          "name": "stdout"
        },
        {
          "output_type": "execute_result",
          "data": {
            "text/html": [
              "<div>\n",
              "<style scoped>\n",
              "    .dataframe tbody tr th:only-of-type {\n",
              "        vertical-align: middle;\n",
              "    }\n",
              "\n",
              "    .dataframe tbody tr th {\n",
              "        vertical-align: top;\n",
              "    }\n",
              "\n",
              "    .dataframe thead th {\n",
              "        text-align: right;\n",
              "    }\n",
              "</style>\n",
              "<table border=\"1\" class=\"dataframe\">\n",
              "  <thead>\n",
              "    <tr style=\"text-align: right;\">\n",
              "      <th></th>\n",
              "      <th>date</th>\n",
              "      <th>high</th>\n",
              "      <th>low</th>\n",
              "      <th>open</th>\n",
              "      <th>close</th>\n",
              "      <th>volume</th>\n",
              "      <th>height</th>\n",
              "      <th>body</th>\n",
              "      <th>b_h_ratio</th>\n",
              "      <th>mid_body</th>\n",
              "      <th>mid_ratio</th>\n",
              "      <th>sma_10_height</th>\n",
              "      <th>height_ratio</th>\n",
              "      <th>close_open</th>\n",
              "      <th>pct</th>\n",
              "      <th>norm_close</th>\n",
              "      <th>catg_b_h_ratio</th>\n",
              "      <th>catg_mid_ratio</th>\n",
              "      <th>catg_h_ratio</th>\n",
              "      <th>candles</th>\n",
              "    </tr>\n",
              "  </thead>\n",
              "  <tbody>\n",
              "    <tr>\n",
              "      <th>0</th>\n",
              "      <td>2004-01-16</td>\n",
              "      <td>114.31</td>\n",
              "      <td>113.63</td>\n",
              "      <td>114.04</td>\n",
              "      <td>114.23</td>\n",
              "      <td>31922700.0</td>\n",
              "      <td>0.005984</td>\n",
              "      <td>0.001672</td>\n",
              "      <td>0.279412</td>\n",
              "      <td>114.135</td>\n",
              "      <td>0.742647</td>\n",
              "      <td>0.009093</td>\n",
              "      <td>0.658118</td>\n",
              "      <td>True</td>\n",
              "      <td>0.003955</td>\n",
              "      <td>2</td>\n",
              "      <td>1</td>\n",
              "      <td>3</td>\n",
              "      <td>1</td>\n",
              "      <td>True2131</td>\n",
              "    </tr>\n",
              "    <tr>\n",
              "      <th>1</th>\n",
              "      <td>2004-01-20</td>\n",
              "      <td>114.65</td>\n",
              "      <td>113.82</td>\n",
              "      <td>114.53</td>\n",
              "      <td>114.20</td>\n",
              "      <td>29863000.0</td>\n",
              "      <td>0.007292</td>\n",
              "      <td>0.002899</td>\n",
              "      <td>0.397590</td>\n",
              "      <td>114.365</td>\n",
              "      <td>0.656627</td>\n",
              "      <td>0.008989</td>\n",
              "      <td>0.811245</td>\n",
              "      <td>False</td>\n",
              "      <td>-0.000263</td>\n",
              "      <td>-1</td>\n",
              "      <td>2</td>\n",
              "      <td>3</td>\n",
              "      <td>2</td>\n",
              "      <td>False-1232</td>\n",
              "    </tr>\n",
              "    <tr>\n",
              "      <th>2</th>\n",
              "      <td>2004-01-21</td>\n",
              "      <td>115.30</td>\n",
              "      <td>113.72</td>\n",
              "      <td>114.13</td>\n",
              "      <td>115.10</td>\n",
              "      <td>30725000.0</td>\n",
              "      <td>0.013894</td>\n",
              "      <td>0.008530</td>\n",
              "      <td>0.613924</td>\n",
              "      <td>114.615</td>\n",
              "      <td>0.566456</td>\n",
              "      <td>0.009727</td>\n",
              "      <td>1.428444</td>\n",
              "      <td>True</td>\n",
              "      <td>0.007881</td>\n",
              "      <td>2</td>\n",
              "      <td>2</td>\n",
              "      <td>2</td>\n",
              "      <td>3</td>\n",
              "      <td>True2223</td>\n",
              "    </tr>\n",
              "    <tr>\n",
              "      <th>3</th>\n",
              "      <td>2004-01-22</td>\n",
              "      <td>115.38</td>\n",
              "      <td>114.58</td>\n",
              "      <td>115.14</td>\n",
              "      <td>114.80</td>\n",
              "      <td>29888500.0</td>\n",
              "      <td>0.006982</td>\n",
              "      <td>0.002967</td>\n",
              "      <td>0.425000</td>\n",
              "      <td>114.970</td>\n",
              "      <td>0.487500</td>\n",
              "      <td>0.009379</td>\n",
              "      <td>0.744428</td>\n",
              "      <td>False</td>\n",
              "      <td>-0.002606</td>\n",
              "      <td>-1</td>\n",
              "      <td>2</td>\n",
              "      <td>2</td>\n",
              "      <td>2</td>\n",
              "      <td>False-1222</td>\n",
              "    </tr>\n",
              "    <tr>\n",
              "      <th>4</th>\n",
              "      <td>2004-01-23</td>\n",
              "      <td>115.37</td>\n",
              "      <td>113.95</td>\n",
              "      <td>115.00</td>\n",
              "      <td>114.43</td>\n",
              "      <td>44245300.0</td>\n",
              "      <td>0.012462</td>\n",
              "      <td>0.005002</td>\n",
              "      <td>0.401408</td>\n",
              "      <td>114.715</td>\n",
              "      <td>0.538732</td>\n",
              "      <td>0.010058</td>\n",
              "      <td>1.239014</td>\n",
              "      <td>False</td>\n",
              "      <td>-0.003223</td>\n",
              "      <td>-2</td>\n",
              "      <td>2</td>\n",
              "      <td>2</td>\n",
              "      <td>3</td>\n",
              "      <td>False-2223</td>\n",
              "    </tr>\n",
              "  </tbody>\n",
              "</table>\n",
              "</div>"
            ],
            "text/plain": [
              "        date    high     low  ...  catg_mid_ratio  catg_h_ratio     candles\n",
              "0 2004-01-16  114.31  113.63  ...               3             1    True2131\n",
              "1 2004-01-20  114.65  113.82  ...               3             2  False-1232\n",
              "2 2004-01-21  115.30  113.72  ...               2             3    True2223\n",
              "3 2004-01-22  115.38  114.58  ...               2             2  False-1222\n",
              "4 2004-01-23  115.37  113.95  ...               2             3  False-2223\n",
              "\n",
              "[5 rows x 20 columns]"
            ]
          },
          "metadata": {
            "tags": []
          },
          "execution_count": 74
        }
      ]
    },
    {
      "cell_type": "code",
      "metadata": {
        "id": "LW6L9YIGfBkL",
        "outputId": "5f70d329-ca67-4e87-8a25-1eb1cdd48405",
        "colab": {
          "base_uri": "https://localhost:8080/",
          "height": 283
        }
      },
      "source": [
        "print(len(np.unique(spx.candles)))\n",
        "plt.hist(spx.candles,30, color = 'red', edgecolor = 'black');"
      ],
      "execution_count": null,
      "outputs": [
        {
          "output_type": "stream",
          "text": [
            "234\n"
          ],
          "name": "stdout"
        },
        {
          "output_type": "display_data",
          "data": {
            "image/png": "[encoded data removed]",
            "text/plain": [
              "<Figure size 432x288 with 1 Axes>"
            ]
          },
          "metadata": {
            "tags": [],
            "needs_background": "light"
          }
        }
      ]
    },
    {
      "cell_type": "code",
      "metadata": {
        "id": "cYX6OS18envi",
        "outputId": "60176698-cace-474a-f4a4-e220bde8fde3",
        "colab": {
          "base_uri": "https://localhost:8080/",
          "height": 35
        }
      },
      "source": [
        "3*3*3*2*6"
      ],
      "execution_count": null,
      "outputs": [
        {
          "output_type": "execute_result",
          "data": {
            "text/plain": [
              "324"
            ]
          },
          "metadata": {
            "tags": []
          },
          "execution_count": 73
        }
      ]
    },
    {
      "cell_type": "code",
      "metadata": {
        "id": "a-o6Utdgevvg",
        "outputId": "f1313141-f8b8-4c9c-aae4-5250e2c66db0",
        "colab": {
          "base_uri": "https://localhost:8080/",
          "height": 265
        }
      },
      "source": [
        "plt.hist(spx.catg_b_h_ratio);"
      ],
      "execution_count": null,
      "outputs": [
        {
          "output_type": "display_data",
          "data": {
            "image/png": "[encoded data removed]",
            "text/plain": [
              "<Figure size 432x288 with 1 Axes>"
            ]
          },
          "metadata": {
            "tags": [],
            "needs_background": "light"
          }
        }
      ]
    },
    {
      "cell_type": "code",
      "metadata": {
        "id": "AnXehcmEQFQe",
        "outputId": "6bfac581-cb69-4072-a023-4eab7802dc98",
        "colab": {
          "base_uri": "https://localhost:8080/",
          "height": 265
        }
      },
      "source": [
        "plt.hist(spx.b_h_ratio, 30, color = 'red', edgecolor = 'black');"
      ],
      "execution_count": null,
      "outputs": [
        {
          "output_type": "display_data",
          "data": {
            "image/png": "[encoded data removed]",
            "text/plain": [
              "<Figure size 432x288 with 1 Axes>"
            ]
          },
          "metadata": {
            "tags": [],
            "needs_background": "light"
          }
        }
      ]
    },
    {
      "cell_type": "code",
      "metadata": {
        "id": "evie_-wDQgUD",
        "outputId": "6e5d9e75-47db-4bd3-c3eb-2c911cefc93e",
        "colab": {
          "base_uri": "https://localhost:8080/",
          "height": 265
        }
      },
      "source": [
        "plt.hist(spx.mid_ratio, 30, color = 'red', edgecolor = 'black');"
      ],
      "execution_count": null,
      "outputs": [
        {
          "output_type": "display_data",
          "data": {
            "image/png": "[encoded data removed]",
            "text/plain": [
              "<Figure size 432x288 with 1 Axes>"
            ]
          },
          "metadata": {
            "tags": [],
            "needs_background": "light"
          }
        }
      ]
    },
    {
      "cell_type": "code",
      "metadata": {
        "id": "JucrEmnQRHAj",
        "outputId": "8e1cf8df-0ec4-41a9-bce2-79c0fd817db6",
        "colab": {
          "base_uri": "https://localhost:8080/",
          "height": 265
        }
      },
      "source": [
        "plt.hist(spx.height_ratio, 30, color = 'red', edgecolor = 'black');"
      ],
      "execution_count": null,
      "outputs": [
        {
          "output_type": "display_data",
          "data": {
            "image/png": "[encoded data removed]",
            "text/plain": [
              "<Figure size 432x288 with 1 Axes>"
            ]
          },
          "metadata": {
            "tags": [],
            "needs_background": "light"
          }
        }
      ]
    },
    {
      "cell_type": "code",
      "metadata": {
        "id": "OH7-n21aRTVl",
        "outputId": "02505b1f-7e67-47ca-d299-de39e14a632b",
        "colab": {
          "base_uri": "https://localhost:8080/",
          "height": 265
        }
      },
      "source": [
        "plt.hist(spx.pct, 30, color = 'red', edgecolor = 'black');"
      ],
      "execution_count": null,
      "outputs": [
        {
          "output_type": "display_data",
          "data": {
            "image/png": "[encoded data removed]",
            "text/plain": [
              "<Figure size 432x288 with 1 Axes>"
            ]
          },
          "metadata": {
            "tags": [],
            "needs_background": "light"
          }
        }
      ]
    },
    {
      "cell_type": "markdown",
      "metadata": {
        "id": "pmervPu-67xx"
      },
      "source": [
        "### mplfinance"
      ]
    },
    {
      "cell_type": "code",
      "metadata": {
        "id": "MWxcnskanHH3",
        "outputId": "b42e4f34-97b7-4474-b2a2-282eadcb54aa",
        "colab": {
          "base_uri": "https://localhost:8080/",
          "height": 495
        }
      },
      "source": [
        "pip install mplfinance\n",
        "import mplfinance as mpf\n",
        "import pandas as pd\n",
        "\n",
        "df = pdr.get_data_yahoo('SPY', start= '2004-05-02', end = '2004-09-12')\n",
        "mpf.plot(df, type='candle', style='yahoo', volume=True)"
      ],
      "execution_count": null,
      "outputs": [
        {
          "output_type": "display_data",
          "data": {
            "image/png": "[encoded data removed]",
            "text/plain": [
              "<Figure size 800x575 with 4 Axes>"
            ]
          },
          "metadata": {
            "tags": []
          }
        }
      ]
    },
    {
      "cell_type": "markdown",
      "metadata": {
        "id": "XfcBs1Dc6tti"
      },
      "source": [
        "### Bokeh"
      ]
    },
    {
      "cell_type": "code",
      "metadata": {
        "id": "tskm-RD8rM0h"
      },
      "source": [
        "pip install bokeh"
      ],
      "execution_count": null,
      "outputs": []
    },
    {
      "cell_type": "code",
      "metadata": {
        "id": "ff11nDdCrJdH"
      },
      "source": [
        "import bokeh.sampledata\n",
        "\n",
        "bokeh.sampledata.download()"
      ],
      "execution_count": null,
      "outputs": []
    },
    {
      "cell_type": "code",
      "metadata": {
        "id": "0xiczHNn4O5j"
      },
      "source": [
        "from math import pi\n",
        "\n",
        "import pandas as pd\n",
        "\n",
        "from bokeh.plotting import figure, output_file, show\n",
        "from bokeh.sampledata.stocks import MSFT\n",
        "\n",
        "df = pd.DataFrame(MSFT)[:50]\n",
        "df[\"date\"] = pd.to_datetime(df[\"date\"])\n",
        "\n",
        "inc = df.close > df.open\n",
        "dec = df.open > df.close\n",
        "w = 12*60*60*1000 # half day in ms\n",
        "\n",
        "TOOLS = \"pan,wheel_zoom,box_zoom,reset,save\"\n",
        "\n",
        "p = figure(x_axis_type=\"datetime\", tools=TOOLS, plot_width=1000, title = \"MSFT Candlestick\")\n",
        "p.xaxis.major_label_orientation = pi/4\n",
        "p.grid.grid_line_alpha=0.3\n",
        "\n",
        "p.segment(df.date, df.high, df.date, df.low, color=\"black\")\n",
        "p.vbar(df.date[inc], w, df.open[inc], df.close[inc], fill_color=\"#D5E1DD\", line_color=\"black\")\n",
        "p.vbar(df.date[dec], w, df.open[dec], df.close[dec], fill_color=\"#F2583E\", line_color=\"black\")\n",
        "\n",
        "output_file(\"candlestick.html\", title=\"candlestick.py example\")\n",
        "\n",
        "show(p) "
      ],
      "execution_count": null,
      "outputs": []
    },
    {
      "cell_type": "code",
      "metadata": {
        "id": "5_IuEiM4rWHm"
      },
      "source": [
        ""
      ],
      "execution_count": null,
      "outputs": []
    }
  ]
}